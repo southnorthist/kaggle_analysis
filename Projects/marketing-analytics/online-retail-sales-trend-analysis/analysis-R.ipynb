{
 "cells": [
  {
   "cell_type": "code",
   "execution_count": 2,
   "metadata": {},
   "outputs": [
    {
     "data": {
      "text/html": [
       "<table class=\"dataframe\">\n",
       "<caption>A data.frame: 6 × 16</caption>\n",
       "<thead>\n",
       "\t<tr><th></th><th scope=col>trans_id</th><th scope=col>prod_upc</th><th scope=col>cust_id</th><th scope=col>trans_timestamp</th><th scope=col>trans_year</th><th scope=col>trans_month</th><th scope=col>trans_day</th><th scope=col>trans_hour</th><th scope=col>trans_quantity</th><th scope=col>cust_age</th><th scope=col>cust_state</th><th scope=col>prod_price</th><th scope=col>prod_title</th><th scope=col>prod_category</th><th scope=col>prod_animal_type</th><th scope=col>total_sales</th></tr>\n",
       "\t<tr><th></th><th scope=col>&lt;int&gt;</th><th scope=col>&lt;dbl&gt;</th><th scope=col>&lt;int&gt;</th><th scope=col>&lt;chr&gt;</th><th scope=col>&lt;int&gt;</th><th scope=col>&lt;int&gt;</th><th scope=col>&lt;int&gt;</th><th scope=col>&lt;int&gt;</th><th scope=col>&lt;int&gt;</th><th scope=col>&lt;int&gt;</th><th scope=col>&lt;chr&gt;</th><th scope=col>&lt;dbl&gt;</th><th scope=col>&lt;chr&gt;</th><th scope=col>&lt;chr&gt;</th><th scope=col>&lt;chr&gt;</th><th scope=col>&lt;dbl&gt;</th></tr>\n",
       "</thead>\n",
       "<tbody>\n",
       "\t<tr><th scope=row>1</th><td>10300097</td><td>719638485153</td><td>1001019</td><td>2021-01-01 07:35:21.439873</td><td>2021</td><td>1</td><td>1</td><td>1</td><td>1</td><td>20</td><td>New York  </td><td>72.99</td><td>Cat Cave       </td><td>bedding</td><td>cat</td><td>72.99</td></tr>\n",
       "\t<tr><th scope=row>2</th><td>10300093</td><td> 73201504044</td><td>1001015</td><td>2021-01-01 09:33:37.499660</td><td>2021</td><td>1</td><td>1</td><td>1</td><td>1</td><td>34</td><td>New York  </td><td>18.95</td><td>Purrfect Puree </td><td>treat  </td><td>cat</td><td>18.95</td></tr>\n",
       "\t<tr><th scope=row>3</th><td>10300093</td><td>719638485153</td><td>1001015</td><td>2021-01-01 09:33:37.499660</td><td>2021</td><td>1</td><td>1</td><td>1</td><td>1</td><td>34</td><td>New York  </td><td>72.99</td><td>Cat Cave       </td><td>bedding</td><td>cat</td><td>72.99</td></tr>\n",
       "\t<tr><th scope=row>4</th><td>10300093</td><td>441530839394</td><td>1001015</td><td>2021-01-01 09:33:37.499660</td><td>2021</td><td>1</td><td>1</td><td>1</td><td>2</td><td>34</td><td>New York  </td><td>28.45</td><td>Ball and String</td><td>toy    </td><td>cat</td><td>56.90</td></tr>\n",
       "\t<tr><th scope=row>5</th><td>10300093</td><td>733426809698</td><td>1001015</td><td>2021-01-01 09:33:37.499660</td><td>2021</td><td>1</td><td>1</td><td>1</td><td>1</td><td>34</td><td>New York  </td><td>18.95</td><td>Yum Fish-Dish  </td><td>food   </td><td>cat</td><td>18.95</td></tr>\n",
       "\t<tr><th scope=row>6</th><td>10300091</td><td>344934101144</td><td>1001012</td><td>2021-01-01 10:08:32.241027</td><td>2021</td><td>1</td><td>1</td><td>1</td><td>1</td><td>26</td><td>New Jersey</td><td>24.95</td><td>Fetch Blaster  </td><td>toy    </td><td>dog</td><td>24.95</td></tr>\n",
       "</tbody>\n",
       "</table>\n"
      ],
      "text/latex": [
       "A data.frame: 6 × 16\n",
       "\\begin{tabular}{r|llllllllllllllll}\n",
       "  & trans\\_id & prod\\_upc & cust\\_id & trans\\_timestamp & trans\\_year & trans\\_month & trans\\_day & trans\\_hour & trans\\_quantity & cust\\_age & cust\\_state & prod\\_price & prod\\_title & prod\\_category & prod\\_animal\\_type & total\\_sales\\\\\n",
       "  & <int> & <dbl> & <int> & <chr> & <int> & <int> & <int> & <int> & <int> & <int> & <chr> & <dbl> & <chr> & <chr> & <chr> & <dbl>\\\\\n",
       "\\hline\n",
       "\t1 & 10300097 & 719638485153 & 1001019 & 2021-01-01 07:35:21.439873 & 2021 & 1 & 1 & 1 & 1 & 20 & New York   & 72.99 & Cat Cave        & bedding & cat & 72.99\\\\\n",
       "\t2 & 10300093 &  73201504044 & 1001015 & 2021-01-01 09:33:37.499660 & 2021 & 1 & 1 & 1 & 1 & 34 & New York   & 18.95 & Purrfect Puree  & treat   & cat & 18.95\\\\\n",
       "\t3 & 10300093 & 719638485153 & 1001015 & 2021-01-01 09:33:37.499660 & 2021 & 1 & 1 & 1 & 1 & 34 & New York   & 72.99 & Cat Cave        & bedding & cat & 72.99\\\\\n",
       "\t4 & 10300093 & 441530839394 & 1001015 & 2021-01-01 09:33:37.499660 & 2021 & 1 & 1 & 1 & 2 & 34 & New York   & 28.45 & Ball and String & toy     & cat & 56.90\\\\\n",
       "\t5 & 10300093 & 733426809698 & 1001015 & 2021-01-01 09:33:37.499660 & 2021 & 1 & 1 & 1 & 1 & 34 & New York   & 18.95 & Yum Fish-Dish   & food    & cat & 18.95\\\\\n",
       "\t6 & 10300091 & 344934101144 & 1001012 & 2021-01-01 10:08:32.241027 & 2021 & 1 & 1 & 1 & 1 & 26 & New Jersey & 24.95 & Fetch Blaster   & toy     & dog & 24.95\\\\\n",
       "\\end{tabular}\n"
      ],
      "text/markdown": [
       "\n",
       "A data.frame: 6 × 16\n",
       "\n",
       "| <!--/--> | trans_id &lt;int&gt; | prod_upc &lt;dbl&gt; | cust_id &lt;int&gt; | trans_timestamp &lt;chr&gt; | trans_year &lt;int&gt; | trans_month &lt;int&gt; | trans_day &lt;int&gt; | trans_hour &lt;int&gt; | trans_quantity &lt;int&gt; | cust_age &lt;int&gt; | cust_state &lt;chr&gt; | prod_price &lt;dbl&gt; | prod_title &lt;chr&gt; | prod_category &lt;chr&gt; | prod_animal_type &lt;chr&gt; | total_sales &lt;dbl&gt; |\n",
       "|---|---|---|---|---|---|---|---|---|---|---|---|---|---|---|---|---|\n",
       "| 1 | 10300097 | 719638485153 | 1001019 | 2021-01-01 07:35:21.439873 | 2021 | 1 | 1 | 1 | 1 | 20 | New York   | 72.99 | Cat Cave        | bedding | cat | 72.99 |\n",
       "| 2 | 10300093 |  73201504044 | 1001015 | 2021-01-01 09:33:37.499660 | 2021 | 1 | 1 | 1 | 1 | 34 | New York   | 18.95 | Purrfect Puree  | treat   | cat | 18.95 |\n",
       "| 3 | 10300093 | 719638485153 | 1001015 | 2021-01-01 09:33:37.499660 | 2021 | 1 | 1 | 1 | 1 | 34 | New York   | 72.99 | Cat Cave        | bedding | cat | 72.99 |\n",
       "| 4 | 10300093 | 441530839394 | 1001015 | 2021-01-01 09:33:37.499660 | 2021 | 1 | 1 | 1 | 2 | 34 | New York   | 28.45 | Ball and String | toy     | cat | 56.90 |\n",
       "| 5 | 10300093 | 733426809698 | 1001015 | 2021-01-01 09:33:37.499660 | 2021 | 1 | 1 | 1 | 1 | 34 | New York   | 18.95 | Yum Fish-Dish   | food    | cat | 18.95 |\n",
       "| 6 | 10300091 | 344934101144 | 1001012 | 2021-01-01 10:08:32.241027 | 2021 | 1 | 1 | 1 | 1 | 26 | New Jersey | 24.95 | Fetch Blaster   | toy     | dog | 24.95 |\n",
       "\n"
      ],
      "text/plain": [
       "  trans_id prod_upc     cust_id trans_timestamp            trans_year\n",
       "1 10300097 719638485153 1001019 2021-01-01 07:35:21.439873 2021      \n",
       "2 10300093  73201504044 1001015 2021-01-01 09:33:37.499660 2021      \n",
       "3 10300093 719638485153 1001015 2021-01-01 09:33:37.499660 2021      \n",
       "4 10300093 441530839394 1001015 2021-01-01 09:33:37.499660 2021      \n",
       "5 10300093 733426809698 1001015 2021-01-01 09:33:37.499660 2021      \n",
       "6 10300091 344934101144 1001012 2021-01-01 10:08:32.241027 2021      \n",
       "  trans_month trans_day trans_hour trans_quantity cust_age cust_state\n",
       "1 1           1         1          1              20       New York  \n",
       "2 1           1         1          1              34       New York  \n",
       "3 1           1         1          1              34       New York  \n",
       "4 1           1         1          2              34       New York  \n",
       "5 1           1         1          1              34       New York  \n",
       "6 1           1         1          1              26       New Jersey\n",
       "  prod_price prod_title      prod_category prod_animal_type total_sales\n",
       "1 72.99      Cat Cave        bedding       cat              72.99      \n",
       "2 18.95      Purrfect Puree  treat         cat              18.95      \n",
       "3 72.99      Cat Cave        bedding       cat              72.99      \n",
       "4 28.45      Ball and String toy           cat              56.90      \n",
       "5 18.95      Yum Fish-Dish   food          cat              18.95      \n",
       "6 24.95      Fetch Blaster   toy           dog              24.95      "
      ]
     },
     "metadata": {},
     "output_type": "display_data"
    }
   ],
   "source": [
    "order_df <- read.csv(file = 'inu_neko_orderline_clean.csv')\n",
    "head(order_df)"
   ]
  },
  {
   "cell_type": "code",
   "execution_count": 7,
   "metadata": {},
   "outputs": [
    {
     "data": {
      "image/png": "[encoded data removed]",
      "text/plain": [
       "plot without title"
      ]
     },
     "metadata": {
      "image/png": {
       "height": 420,
       "width": 420
      }
     },
     "output_type": "display_data"
    }
   ],
   "source": [
    "boxplot(cust_age ~ trans_month, data = order_df)"
   ]
  }
 ],
 "metadata": {
  "kernelspec": {
   "display_name": "R",
   "language": "R",
   "name": "ir"
  },
  "language_info": {
   "codemirror_mode": "r",
   "file_extension": ".r",
   "mimetype": "text/x-r-source",
   "name": "R",
   "pygments_lexer": "r",
   "version": "4.2.1"
  }
 },
 "nbformat": 4,
 "nbformat_minor": 2
}
