{
 "cells": [
  {
   "cell_type": "markdown",
   "metadata": {},
   "source": [
    "# Beginner Recommender Systems\n",
    "\n",
    "Summarized by QH\n",
    "\n",
    "Last updated on 2022-12-08"
   ]
  },
  {
   "cell_type": "markdown",
   "metadata": {},
   "source": [
    "## What are recommender systems?\n",
    "\n",
    "Recommender systems are been used very widely these days in the world in simple ways or more sophisticated ways:\n",
    "* Your best friend recommended one restaruant to you because one of his friends recommended him this restaurant.\n",
    "* Youtube recommends the videos you may like from your watching history\n",
    "* Amazon recommends products based on your purchasing history or other people's choices who has similar purchasing behavior or preferences as you.\n",
    "\n",
    "We are introducing the recommender systems used in the digital world. It is classified in three types:\n",
    "* _Simple Recommenders_: It offers a general recommendation to every user based on the popularity. It can be further grouped into genre, district, etc. For movies recommending system, IMDB Top 250 is an example.\n",
    "\n",
    "* _Content-based recommenders_: It recommends similar items based on a particular characteristics of a item. The system utilizes the metadata of an item to make recommendations, for example, genre, director, description, actors, for movies. The assumption behind it is that if a user likes an item, then he/she will like similar items. Youtube is an example for this type.\n",
    "\n",
    "* _Collaborative filtering engines_: It predicts the rating or preference of an item based on past ratings and preferences from other users.\n",
    "    * _User_based Filtering_: If a similar users like the item, the system will recommend the item to the user.\n",
    "    * _Item_based Filtering_: The system finds similar items based on how people have rated it in the past and if a user like one item, it will recommend the other one that is similar."
   ]
  },
  {
   "cell_type": "code",
   "execution_count": null,
   "metadata": {},
   "outputs": [],
   "source": []
  },
  {
   "cell_type": "markdown",
   "metadata": {},
   "source": [
    "## References\n",
    "1. Datacamp Recommender Systems in python beginner tutorial: https://www.datacamp.com/tutorial/recommender-systems-python"
   ]
  }
 ],
 "metadata": {
  "kernelspec": {
   "display_name": "Python 3.9.4 64-bit",
   "language": "python",
   "name": "python3"
  },
  "language_info": {
   "name": "python",
   "version": "3.9.4"
  },
  "orig_nbformat": 4,
  "vscode": {
   "interpreter": {
    "hash": "aee8b7b246df8f9039afb4144a1f6fd8d2ca17a180786b69acc140d282b71a49"
   }
  }
 },
 "nbformat": 4,
 "nbformat_minor": 2
}
