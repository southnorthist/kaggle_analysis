{
 "cells": [
  {
   "cell_type": "code",
   "execution_count": 1,
   "metadata": {},
   "outputs": [
    {
     "name": "stderr",
     "output_type": "stream",
     "text": [
      "Setting default log level to \"WARN\".\n",
      "To adjust logging level use sc.setLogLevel(newLevel). For SparkR, use setLogLevel(newLevel).\n"
     ]
    },
    {
     "name": "stdout",
     "output_type": "stream",
     "text": [
      "22/12/08 17:26:34 WARN NativeCodeLoader: Unable to load native-hadoop library for your platform... using builtin-java classes where applicable\n",
      "3.3.1\n",
      "local[*]\n"
     ]
    }
   ],
   "source": [
    "import pyspark \n",
    "\n",
    "sc = pyspark.SparkContext()\n",
    "print(sc.version)\n",
    "print(sc.master)"
   ]
  },
  {
   "cell_type": "markdown",
   "metadata": {},
   "source": [
    "## Working with RDD\n",
    "### How to create RDDs?\n",
    "* Parallelizing an existing collection of objects\n",
    "* External datasets: Files in HDFS, Objects in Amazon S3 bucket, lines in a text file\n",
    "* From existing RDDs"
   ]
  },
  {
   "cell_type": "code",
   "execution_count": 5,
   "metadata": {},
   "outputs": [
    {
     "name": "stdout",
     "output_type": "stream",
     "text": [
      "<class 'pyspark.rdd.RDD'>\n",
      "<class 'pyspark.rdd.RDD'>\n"
     ]
    }
   ],
   "source": [
    "# Parallelize() to create RDDs\n",
    "\n",
    "numRDD = sc.parallelize([1,2,3,4])\n",
    "strRDD = sc.parallelize('Hello!')\n",
    "print(type(strRDD))\n",
    "\n",
    "# From external datasets\n",
    "fileRDD = sc.textFile('Complete_Shakespeare.txt')\n",
    "print(type(fileRDD))"
   ]
  },
  {
   "cell_type": "markdown",
   "metadata": {},
   "source": [
    "We can partition the dataset by adding `numSlices` in `parallelize()` method and `minPartitions` in `textFile()` method. A partition is a logical division of a large distributed data set. We can use `getNumPartitions()` to get the partitions of an RDD."
   ]
  },
  {
   "cell_type": "code",
   "execution_count": 7,
   "metadata": {},
   "outputs": [
    {
     "name": "stdout",
     "output_type": "stream",
     "text": [
      "6\n",
      "10\n"
     ]
    }
   ],
   "source": [
    "numRDD = sc.parallelize(range(10), numSlices=6)\n",
    "fileRDD = sc.textFile('Complete_Shakespeare.txt', minPartitions=10)\n",
    "# We can check the partitions\n",
    "print(numRDD.getNumPartitions())\n",
    "print(fileRDD.getNumPartitions())"
   ]
  },
  {
   "cell_type": "markdown",
   "metadata": {},
   "source": [
    "Spark Operations = Transformation  + Actions.\n",
    "* Transformations create new RDDs.\n",
    "    * Basic Transformations: `map()`, `filter()`, `flatMap()`, `union()`.\n",
    "* Actions perform computation on the RDDS.\n",
    "    * Basic Actions: \n",
    "        * `collect()`: Returns all the elements of the datasets as an array.\n",
    "        * `take(N)`: returns an array with the first N elements of the dataset\n",
    "        * `first()`: returns the first element of the RDD\n",
    "        * `count()`: returns the number of elements in the RDD"
   ]
  },
  {
   "cell_type": "code",
   "execution_count": 11,
   "metadata": {},
   "outputs": [
    {
     "name": "stdout",
     "output_type": "stream",
     "text": [
      "['hello', 'world', 'how', 'are', 'you']\n",
      "[3]\n",
      "hello\n",
      "4\n"
     ]
    }
   ],
   "source": [
    "# map()\n",
    "RDD = sc.parallelize([1,2,3,4])\n",
    "RDD_map = RDD.map(lambda x: x * x)\n",
    "# filter()\n",
    "RDD_filter = RDD.filter(lambda x: x > 2)\n",
    "#flatmap()\n",
    "strRDD = sc.parallelize([\"hello world\", \"how are you\"])\n",
    "RDD_flatmap = strRDD.flatMap(lambda x: x.split(\" \"))\n",
    "# collect()\n",
    "print(RDD_flatmap.collect())\n",
    "# take(N)\n",
    "print(RDD_filter.take(1))\n",
    "# first()\n",
    "print(RDD_flatmap.first())\n",
    "# count()\n",
    "print(RDD_map.count())"
   ]
  }
 ],
 "metadata": {
  "kernelspec": {
   "display_name": "Python 3.9.4 64-bit",
   "language": "python",
   "name": "python3"
  },
  "language_info": {
   "codemirror_mode": {
    "name": "ipython",
    "version": 3
   },
   "file_extension": ".py",
   "mimetype": "text/x-python",
   "name": "python",
   "nbconvert_exporter": "python",
   "pygments_lexer": "ipython3",
   "version": "3.9.4"
  },
  "orig_nbformat": 4,
  "vscode": {
   "interpreter": {
    "hash": "aee8b7b246df8f9039afb4144a1f6fd8d2ca17a180786b69acc140d282b71a49"
   }
  }
 },
 "nbformat": 4,
 "nbformat_minor": 2
}
