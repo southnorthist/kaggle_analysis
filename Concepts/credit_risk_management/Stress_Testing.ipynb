{
 "cells": [
  {
   "cell_type": "markdown",
   "metadata": {},
   "source": [
    "# Stress Testing\n",
    "\n",
    "*First draft: 2020-12-24*  \n",
    "*Latest updates: 2020-12-24*  \n",
    "*Author: QH*  "
   ]
  },
  {
   "cell_type": "markdown",
   "metadata": {},
   "source": [
    "## 1. OSFI Stress Testing Guideline (2009-12)\n",
    "### 1.1 What is stress testing?\n",
    "**Stress Testing**: A risk management technique used to evaluate the potential effects on an institution's financial condition, of a set of specified changes in risk factors, corresponding to exceptional but plausible events.\n",
    "There are two types of testing method:\n",
    "* Scenario Testing   \n",
    "    * It uses a hypothetical future state of the world to define changes in risk factors affecting an institution's operations.\n",
    "    * Key points: Changes for a number of risk factors covering the time horizon appropriate for the business.\n",
    "* Sensitivity Testing\n",
    "    * It involves an incremental change in a risk factor (or a limited number of risk factors). It is typically conducted over a shorter time horizon, (e.g. an instantaneous shock).\n",
    "    \n",
    "### 1.2 Methodology\n",
    "There are some key takeaways from OSFI Guideline:\n",
    "1. A stress testing program should consistently and comprehensively cover **product-, business-** and **entity-specific** views.\n",
    "2. It should consider the institution's most material and significant risks.  \n",
    "    * credit risk (including counterparty and reinsurance risk)\n",
    "    * market risk (general market, specific, cash flow mismatch, interest rate, foreign exchange, commodity)\n",
    "    * insurance risk (mortality, morbidity, claim frequency and serverity, persistency and lapse risk)\n",
    "    * liquidity risk\n",
    "    * operational and legal risk\n",
    "    * concentration risk\n",
    "    * other risks\n",
    "3. The impact of the stress tests is usually evaluated using one or more measures. Typical measures are:\n",
    "    * asset and liability values\n",
    "    * level of impaired assets and write-offs\n",
    "    * accounting profit and loss\n",
    "    * economic profit and loss\n",
    "    * required and available regulatory capital\n",
    "    * economical capital\n",
    "    * liquidity and funding gaps\n",
    "    \n",
    "### 1.3 Scenario Selection\n",
    "TBA"
   ]
  },
  {
   "cell_type": "markdown",
   "metadata": {},
   "source": [
    "## 2. Principles for sound stress testing practices and supervision (Basel-2009)\n",
    "### 2.1 Weaknesses in the stress testing methodologies\n",
    "* weaknesses in infrastructure: It limits the ability of banks to identify and aggregate exposures across the bank.\n",
    "* historical statistical relationships to assess risk:\n",
    "    * Given a long period of stabilty, backward-looking historical information inidcated benign conditions so that the models did not pick up the possibility of severe shocks.\n",
    "    * In stressed conditions, risk characteristics can change rapidly with system-wide interactions. The effects can be dramatically amplified from the initial shock."
   ]
  }
 ],
 "metadata": {
  "kernelspec": {
   "display_name": "Python 3",
   "language": "python",
   "name": "python3"
  },
  "language_info": {
   "codemirror_mode": {
    "name": "ipython",
    "version": 3
   },
   "file_extension": ".py",
   "mimetype": "text/x-python",
   "name": "python",
   "nbconvert_exporter": "python",
   "pygments_lexer": "ipython3",
   "version": "3.7.3"
  }
 },
 "nbformat": 4,
 "nbformat_minor": 2
}
