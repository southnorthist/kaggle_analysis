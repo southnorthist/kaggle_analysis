{
 "cells": [
  {
   "cell_type": "markdown",
   "metadata": {},
   "source": [
    "# PCA\n",
    "\n",
    "\n",
    "_Summarized by QH_  \n",
    "_First version: 2022-11-02_  \n",
    "_Last updated on : 2022-11-02_  "
   ]
  },
  {
   "cell_type": "markdown",
   "metadata": {},
   "source": [
    "The objective of PCA is to find a low-dimensional representation of the observations that explain a good fraction of the variance."
   ]
  },
  {
   "cell_type": "markdown",
   "metadata": {},
   "source": [
    "# References\n",
    "1. Introduction to Statistical Learning\n",
    "2. Machine Learning Course by Andrew Ng on Coursera"
   ]
  }
 ],
 "metadata": {
  "kernelspec": {
   "display_name": "Python 3.10.8 64-bit",
   "language": "python",
   "name": "python3"
  },
  "language_info": {
   "name": "python",
   "version": "3.10.8"
  },
  "orig_nbformat": 4,
  "vscode": {
   "interpreter": {
    "hash": "96578ef0327f3af430031f765abc91a1dd1caaa16fb50e1f5b330f8f1788b2ed"
   }
  }
 },
 "nbformat": 4,
 "nbformat_minor": 2
}
