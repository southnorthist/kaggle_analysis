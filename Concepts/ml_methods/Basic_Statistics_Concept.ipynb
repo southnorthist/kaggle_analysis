{
 "cells": [
  {
   "attachments": {},
   "cell_type": "markdown",
   "metadata": {},
   "source": [
    "# Basic Statistics Concepts\n",
    "\n",
    "_Summarized by QH_  \n",
    "_First version: 2022-11-01_  \n",
    "_Last updated on : 2023-01-20_  "
   ]
  },
  {
   "cell_type": "markdown",
   "metadata": {},
   "source": [
    "# Terminology\n",
    "\n",
    "* __Population__: Any large collection of objects or individuals.\n",
    "* __Parameter__: Any summary number that describes the entire population (e.g. population mean).\n",
    "* __Sample__: A representative group drawn from population.\n",
    "* __Statistic__: Any summary number that describes the sample (e.g. sample mean).\n",
    "* __Confidence Interval__: The interval that we have confidence that contains a population parameter.\n",
    "* __Hypothesis__: Assumption about a sample of population.\n",
    "* __Contingency Table__: Summarize the frequency of two categorical variable in a $r \\times c$ table, where $r$ and $c$ are the total levels of the categorical variable respectively.\n",
    "* __Type I Error__: Rejecting the null hypothesis given the null hypothesis is true.\n",
    "* __Type II Error__: Failing to reject the null hypothess given the alternative hypothess is true.\n",
    "* __Power__: Given the alternative hypothesis is true, the probability to reject the null hypothesis by accepting $\\alpha$ level of Type I error.\n",
    "* Sample size calculation:\n",
    "    * __Margin of Error__: The maximum amount that the sample resutls are expected to differ from those of the actual population.\n",
    "    * __Confidence Level__: The probability that a sample size accurately reflects the greater population.\n"
   ]
  },
  {
   "cell_type": "markdown",
   "metadata": {},
   "source": [
    "# Concepts\n",
    "## __Hypothesis testing__\n",
    "* General Procedures:\n",
    "    * Step 1: Making an initial assumption.\n",
    "    * Step 2: Collecting evidence (data).\n",
    "    * Step 3: Based on the available evidence (data), deciding whether to reject or not reject the initial assumption.\n",
    "* Critical Value Approach:\n",
    "    * __Pinciple__ : The critical value approach involves determining \"likely\" or \"unlikely\" by determining whether or not the observed test statistic is more extreme than would be expected if the null hypothesis were true. That is, it entails comparing the observed test statistic to some cutoff value, called the \"critical value.\" If the test statistic is more extreme than the critical value, then the null hypothesis is rejected in favor of the alternative hypothesis. If the test statistic is not as extreme as the critical value, then the null hypothesis is not rejected.\n",
    "    * Example on testing population mean $\\mu$:\n",
    "        1. Specify the null and alternative hypotheses.\n",
    "        2. Using the sample data and assuming the null hypothesis is true, calculate the value of the test statistic. To conduct the hypothesis test for the population mean $\\mu$, we use the t-statistic $t^* = \\frac{\\bar{x} - \\mu}{s / \\sqrt{n}}$  which follows a t-distribution with n - 1 degrees of freedom.\n",
    "        3. Determine the critical value by finding the value of the known distribution of the test statistic such that the probability of making a Type I error — which is denoted  (greek letter \"alpha\") and is called the \"significance level of the test\" — is small (typically 0.01, 0.05, or 0.10).\n",
    "        4. Compare the test statistic to the critical value. If the test statistic is more extreme in the direction of the alternative than the critical value, reject the null hypothesis in favor of the alternative hypothesis. If the test statistic is less extreme than the critical value, do not reject the null hypothesis.\n",
    "* P-Value Approach:\n",
    "    * __Principle__: The P-value approach involves determining \"likely\" or \"unlikely\" by determining the probability — assuming the null hypothesis were true — of observing a more extreme test statistic in the direction of the alternative hypothesis than the one observed. If the P-value is small, say less than (or equal to) , then it is \"unlikely.\" And, if the P-value is large, say more than , then it is \"likely.\"\n",
    "    * Example on testing population mean $\\mu$:\n",
    "        1. Specify the null and alternative hypotheses.\n",
    "        2. Using the sample data and assuming the null hypothesis is true, calculate the value of the test statistic. To conduct the hypothesis test for the population mean $\\mu$, we use the t-statistic $t^* = \\frac{\\bar{x} - \\mu}{s / \\sqrt{n}}$  which follows a t-distribution with n - 1 degrees of freedom.\n",
    "        3. Using the known distribution of the test statistic, calculate the P-value: \"If the null hypothesis is true, what is the probability that we'd observe a more extreme test statistic in the direction of the alternative hypothesis than we did?\" \n",
    "        4. Set the significance level, , the probability of making a Type I error to be small — 0.01, 0.05, or 0.10. Compare the P-value to . If the P-value is less than (or equal to) , reject the null hypothesis in favor of the alternative hypothesis. If the P-value is greater than , do not reject the null hypothesis.\n",
    "\n",
    "### student t-test\n",
    "### chi-square test of Independence\n",
    "* Null Hypothesis ($H_0$): The two categorical variables are independent.  \n",
    "* Alternative Hypothesis ($H_A$): The two categorical variables are dependent.  \n",
    "* Chi-Square Test statistic: $\\chi^2 = \\sum (O - E)^2 / E$, where $O$ is the observed frequency and $E$ is the expected frequency under the null hypothesis computed as: $E = \\frac{\\text{row total} \\times \\text{column total}}{\\text{sample size}}$.\n",
    "* We will compare the value of the test statistic to the critical value of $\\chi^2_\\alpha$ with degree of freedom = $(r - 1) (c - 1)$, and reject the null hypothesis if $\\chi^2 > \\chi^2_\\alpha$.\n",
    "\n"
   ]
  },
  {
   "attachments": {},
   "cell_type": "markdown",
   "metadata": {},
   "source": [
    "### Contingency Table and Confusion matrix\n",
    "\n",
    "For binary classification problem, we use confusion matrix as follows:\n",
    "\n",
    "|Predicted\\Actual| Actual Positive| Actual Negative|Metrics|\n",
    "|:-|:-|:-|:-|\n",
    "|__Predicted Positive__|# True Positive (TP)|# False Positive (FP)|_Precision_: Percentage of correct <br> predictions of all the predicted positive cases. <br> $\\frac{TP}{TP + FP}$ |\n",
    "|__Predicted Negative__|# False Negative (FN)| # True Negative (TN)|\n",
    "|__Metrics__|_Recall_ or _True Positive Rate_ or _Sensitivity_: Percentage of correct predictions <br> of all actual positive cases, $\\frac{TP}{TP + FN}$| _False Positive Rate_ or (1 - _Specificity_): Percentage of incorrect predictions <br> of all actual negative cases, $\\frac{FP}{FP + TN}$ |_Accuracy_: Percentage of correct predictions of all cases, $\\frac{TP + TN}{TP+FP+TN+FN}$ |\n",
    "\n",
    "When we encounter an imbalanced classification problem as follows, accuracy may not be the best measure:\n",
    "|Predicted\\Actual| Actual Positive| Actual Negative|\n",
    "|:-|:-|:-|\n",
    "|__Predicted Positive__| 3 | 2 |\n",
    "|__Predicted Negative__| 2 | 93|\n",
    "\n",
    "The accuracy = $93\\%$, however, if we predict all cases to be negative, the confusion matrix becomes:\n",
    "|Predicted\\Actual| Actual Positive| Actual Negative|\n",
    "|:-|:-|:-|\n",
    "|__Predicted Positive__| 0 | 0 |\n",
    "|__Predicted Negative__| 5 | 95|\n",
    "\n",
    "The accuracy = $95\\%$ which is even better. However, this classification is no use since it never predict the positive case.\n",
    "\n",
    "There are more useful metrics as follows:\n",
    "#### F1-score\n",
    "It is the weighted harmonic average or mean of precision and recall:\n",
    "$$F1 = 2 * \\frac{\\text{precision} \\cdot \\text{recall}}{\\text{precision} + \\text{recall}}$$\n",
    "\n",
    "#### Area under Precision-Recall (PR)\n",
    "It is the area under Precision and Recall curve.\n",
    "\n",
    "#### Area under ROC\n",
    "It is the area under True-Positive and False Positive Curve.\n",
    "\n",
    "<img src=\"FPR_TPR_curve.png\" alt=\"TPR-FPC_png\" width=\"450\"/>\n",
    "<img src=\"AUC.png\" alt=\"AUC_png\" width=\"415\"/>\n",
    "\n",
    "Source: Google machine learning crash course"
   ]
  },
  {
   "cell_type": "markdown",
   "metadata": {},
   "source": [
    "## Sample Size Calculation\n"
   ]
  },
  {
   "cell_type": "markdown",
   "metadata": {},
   "source": [
    "# References\n",
    "1. Penn State Online Statistics Courses: https://online.stat.psu.edu/statprogram/reviews/statistical-concepts/terminology\n"
   ]
  }
 ],
 "metadata": {
  "kernelspec": {
   "display_name": "Python 3.9.4 64-bit",
   "language": "python",
   "name": "python3"
  },
  "language_info": {
   "name": "python",
   "version": "3.9.4"
  },
  "orig_nbformat": 4,
  "vscode": {
   "interpreter": {
    "hash": "aee8b7b246df8f9039afb4144a1f6fd8d2ca17a180786b69acc140d282b71a49"
   }
  }
 },
 "nbformat": 4,
 "nbformat_minor": 2
}
