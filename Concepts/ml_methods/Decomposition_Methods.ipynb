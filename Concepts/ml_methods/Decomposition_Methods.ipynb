{
 "cells": [
  {
   "attachments": {},
   "cell_type": "markdown",
   "metadata": {},
   "source": [
    "#  Decomposition Methods\n",
    "\n",
    "_Summarized by QH_  \n",
    "_First version: 2022-11-02_  \n",
    "_Last updated on : 2023-01-20_  "
   ]
  },
  {
   "cell_type": "markdown",
   "metadata": {},
   "source": [
    "The objective of PCA is to find a low-dimensional representation of the observations that explain a good fraction of the variance."
   ]
  },
  {
   "attachments": {},
   "cell_type": "markdown",
   "metadata": {},
   "source": [
    "#### Non-negative matrix factorization\n",
    "Find two non-negative matrices, i.e. matrices with all non-negative elements, (W, H) whose product approximates the non-negative matrix X. This factorization can be used for example for dimensionality reduction, source separation or topic extraction.\n",
    "\n",
    "The objective function is \n",
    "$$\n",
    "\\begin{aligned}\n",
    "L(W, H) &= 0.5 * ||X - WH||_{loss}^2\\\\\n",
    "&+ alpha\\_W * l1\\_ratio * n\\_features * ||vec(W)||_1\\\\\n",
    "&+ alpha\\_H * l1\\_ratio * n\\_samples * ||vec(H)||_1\\\\\n",
    "&+ 0.5 * alpha\\_W * (1 - l1\\_ratio) * n\\_features * ||W||_{Fro}^2\\\\\n",
    "&+ 0.5 * alpha\\_H * (1 - l1\\_ratio) * n\\_samples * ||H||_{Fro}^2\n",
    "\\end{aligned}\n",
    "$$\n",
    "\n",
    "Where\n",
    "$$\n",
    "\\begin{aligned}\n",
    "||A||_{Fro}^2 &= \\sum_{i,j} A_{ij}^2\\\\\n",
    "||vec(A)||_1 &= \\sum_{i,j} abs(A_{ij})\n",
    "\\end{aligned}\n",
    "$$"
   ]
  },
  {
   "cell_type": "markdown",
   "metadata": {},
   "source": [
    "# References\n",
    "1. Introduction to Statistical Learning\n",
    "2. Machine Learning Course by Andrew Ng on Coursera"
   ]
  }
 ],
 "metadata": {
  "kernelspec": {
   "display_name": "Python 3",
   "language": "python",
   "name": "python3"
  },
  "language_info": {
   "name": "python",
   "version": "3.9.4 (v3.9.4:1f2e3088f3, Apr  4 2021, 12:32:44) \n[Clang 6.0 (clang-600.0.57)]"
  },
  "orig_nbformat": 4,
  "vscode": {
   "interpreter": {
    "hash": "aee8b7b246df8f9039afb4144a1f6fd8d2ca17a180786b69acc140d282b71a49"
   }
  }
 },
 "nbformat": 4,
 "nbformat_minor": 2
}
