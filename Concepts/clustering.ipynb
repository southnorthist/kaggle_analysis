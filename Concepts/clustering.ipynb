{
 "cells": [
  {
   "cell_type": "markdown",
   "metadata": {},
   "source": [
    "# Clustering Methods\n",
    "\n",
    "\n",
    "_Summarized by QH_  \n",
    "_First version: 2022-11-02_  \n",
    "_Last updated on : 2022-11-02_  "
   ]
  },
  {
   "cell_type": "markdown",
   "metadata": {},
   "source": [
    "The objective for clustering is to find homogeneous subgroups among the observations."
   ]
  },
  {
   "cell_type": "markdown",
   "metadata": {},
   "source": [
    "## K-Means Clustering\n",
    "\n",
    "K-Means clustering method can partition the datasets into $K$ distinct and non-overlapping segments/clusters. The idea of K-Means is to find a good way to partition the data that can make the _within-cluster variation_ as small as possible.\n",
    "\n",
    "To define the _within-cluster variation_, the common way is to use Euclidean distance.\n",
    "* Eclidean distance: $\\sqrt{\\sum_{j=1}^p (x_{ij} - x_{i'j})^2}$ for observation $i$ and $i'$.\n",
    "\n",
    "And the _within-cluster variation_ for cluster $k$ is defined as the sum of Pair-wise squared Euclidean distance: \n",
    "$$ W(C_k) = \\frac{1}{|C_k|} \\sum_{i, i' \\in C_k} \\sum_{j=1}^p (x_{ij} - x_{i'j})^2$$  \n",
    "\n",
    "where $|C_k|$ denotes the number of observations in the $k$ th cluster.\n",
    "\n",
    "Our objective is to minimize for the total $K$ clusters' _within-cluster variation_, mathematically:\n",
    "$$ \\text{min}_{c_1, \\cdots, c_k} \\sum_{k=1}^KW(C_k) $$ \n",
    "\n",
    "\n",
    "\n",
    "The algorithm for a dataset with number of observations being $n$ and number of features being $p$:\n",
    "1. Randomly initial $K$ _centroid_.\n",
    "2. Iterate until the cluster assignments stop changing:  \n",
    "    a. Assign each observation to the closest cluster centroid. Closest is measured using Euclidean distance.  \n",
    "    b. For each of the $K$ clusters, compute the cluster _centroid_. The $k$th cluster centroid is the vector of $p$ features, for each feature value being the average of the observations' feature value in that cluster.\n",
    "\n",
    "Notes:\n",
    "* The algorithm gurantees to decrease the _within-cluster variation_ since each steps is to find the observation that's closest to each other. And mathematically it is because:\n",
    "$$ \\frac{1}{|C_k|} \\sum_{i, i' \\in C_k} \\sum_{j=1}^p (x_{ij} - x_{i'j})^2 = 2\\sum_{i \\in C_k} \\sum_{j=1}^p (x_{ij} - \\bar{x}_{kj})^2$$ \n",
    "* It may get into local optimum given different initialization.\n",
    "\n",
    "Advantages:\n",
    "* Easy and straightforward to implement and understand\n",
    "\n",
    "Drawbacks:\n",
    "* Need to pre-specify number of clusters $K$. \n",
    "    * We can use __elbow method__ using sum of _within-cluster variation_ or _average silhoutte score_ to determine the $K$.\n",
    "    * Use business knowledge together with mathematical methods to determine.\n",
    "* Need to initialize the $K$ centroids which may results in different local optimum. \n",
    "    * Suggest to run multiple times with different initialization and choose the one that minimize the sum of _within-cluster variation_.\n",
    "\n",
    "### Elbow method\n"
   ]
  },
  {
   "cell_type": "markdown",
   "metadata": {},
   "source": [
    "## Agglomerative (Bottom-up) Hierarchical Clustering\n",
    "\n",
    "### Understanding a dendrogram\n",
    "* At the bottom of the tree represents individual observations (leafs). When we move up the tree, leaves begin to fuse into branches because they are similar to each other.\n",
    "* The height of the fusion as measure on the vertical axis represents the dis-similarity of two clusters.\n",
    "* The closeness in the horizontal axis does not represent the similarity.\n",
    "\n",
    "### Main Idea and Dissimilarity\n",
    "\n",
    "The main idea for the agglomerative hierarchical clustering is that \n",
    "* Starting out at the bottom of the dendrogram, each of the $n$ observations is treated as its own cluster. \n",
    "* The two clusters that are most similar to each other are then fused so that there now are $n−1$ clusters. \n",
    "* Next the two clusters that are most similar to each other are fused again, so that there now are $n − 2$ clusters. The algorithm proceeds in this fashion until all of the observations belong to one single cluster.\n",
    "\n",
    "From this idea we need a measurement for similarity or dissimilarity. For two observations we can use Euclidean Distance, how about the dissimlarity between two clusters? We can use _linkage_.\n",
    "There are four types of _linkage_: _complete_, _average_, _single_, and _centroid_.\n",
    "\n",
    "|Linkage|Description|\n",
    "|----|:--|\n",
    "|Complete|Maximal intercluster dissimlarity. Compute all pairwise dissimlarities between observations in cluster A and the observations in cluster B and record the _largest_ of these dissimalrities|\n",
    "|Single|Minimal intercluster dissimilarity. Compute all pariwise dissimilarities between observations in cluster A and the observations in cluster B and record the _smallest_ of these dissimilarities. Single linkage can result in extended, trailing clusters in which single observations are fused one-at-a-time.|\n",
    "|Average|Mean intercluster dissimilarity. Compute all pariwise dissimilarities between observations in cluster A and the observations in cluster B and record the _average_ of these dissimilarities.|\n",
    "|Centroid|Dissimilarity between the centroid for clusters A and the centroid for cluster B. Centroid linkage can result in undesirable _inversions_. An _inversion_ occur when two clusters are fused at a height below either of the individual clusters in the dendrogram.|\n",
    "\n",
    " ### Hierarchical Clustering Algorithm\n",
    " 1. Treat each of the $n$ observation as its own cluster and record the dissimilarity measure (e.g. Euclidian distance) for all pairwise dissimilarity.\n",
    " 2. For $i = n, n-1, \\cdots, 2$:\n",
    "    a. Examine all pairwise inter-cluster dissimilarities among the $i$ clusters and identify the pair of clusters that are most similar. Fuse these two clusters. The dissimilarity between these two clusters indicates the height in the dendrogram where the fusion takes place.  \n",
    "    b. Compute the new pairwise inter-cluster dissimilarities among the $i-1$ remaining clusters.\n",
    "\n",
    "Notes:\n",
    "* Compared to K-Means, Hierarchical Clustering does not need to pre-specify number of clusters.\n",
    "* Hierarchical clustering sets the assumption that clusters are netted. That means, if the clusters are not nested, using hierarchical clustering may yield wose results than K-Means clustering for a given number of clusters.\n",
    "* Choice of dissimilarity measures:\n",
    "    * Correlation-based dissimilarity measure is preferred to be used when the focus is on the shape of observation profiles instead of their magnitude. \n",
    "        * e.g. Using shoppers' historical shopping data to do segmentation. If the goal is to group them by their shopping preference (e.g., buying computers and office suplies together) then correlation-based dissimilarity measure is more appropriate.\n",
    "\n",
    "Practical issues when doing clustering:\n",
    "* Should the observations or features first be standardized some way? (e.g. scaled to standard deviation)\n",
    "* Hierarchical clustering:\n",
    "    * What dissimilarity measure should be used?\n",
    "    * What type of linkage should be used?\n",
    "    * Where should we cut the dendrogram in order to obtain clusters?\n",
    "* K-Means Clustering:\n",
    "    * How many clusters should we look for in the data?"
   ]
  },
  {
   "cell_type": "code",
   "execution_count": 1,
   "metadata": {},
   "outputs": [
    {
     "data": {
      "image/png": "[encoded data removed]",
      "text/plain": [
       "<Figure size 640x480 with 1 Axes>"
      ]
     },
     "metadata": {},
     "output_type": "display_data"
    }
   ],
   "source": [
    "# This example is from scikit-learn 1.1.3 example:\n",
    "# https://scikit-learn.org/stable/auto_examples/cluster/plot_agglomerative_dendrogram.html#sphx-glr-auto-examples-cluster-plot-agglomerative-dendrogram-py\n",
    "import numpy as np\n",
    "\n",
    "from matplotlib import pyplot as plt\n",
    "from scipy.cluster.hierarchy import dendrogram\n",
    "from sklearn.datasets import load_iris\n",
    "from sklearn.cluster import AgglomerativeClustering\n",
    "\n",
    "\n",
    "def plot_dendrogram(model, **kwargs):\n",
    "    # Create linkage matrix and then plot the dendrogram\n",
    "\n",
    "    # create the counts of samples under each node\n",
    "    counts = np.zeros(model.children_.shape[0])\n",
    "    n_samples = len(model.labels_)\n",
    "    for i, merge in enumerate(model.children_):\n",
    "        current_count = 0\n",
    "        for child_idx in merge:\n",
    "            if child_idx < n_samples:\n",
    "                current_count += 1  # leaf node\n",
    "            else:\n",
    "                current_count += counts[child_idx - n_samples]\n",
    "        counts[i] = current_count\n",
    "\n",
    "    linkage_matrix = np.column_stack(\n",
    "        [model.children_, model.distances_, counts]\n",
    "    ).astype(float)\n",
    "\n",
    "    # Plot the corresponding dendrogram\n",
    "    dendrogram(linkage_matrix, **kwargs)\n",
    "\n",
    "\n",
    "iris = load_iris()\n",
    "X = iris.data\n",
    "\n",
    "# setting distance_threshold=0 ensures we compute the full tree.\n",
    "model = AgglomerativeClustering(distance_threshold=0, n_clusters=None)\n",
    "\n",
    "model = model.fit(X)\n",
    "plt.title(\"Hierarchical Clustering Dendrogram\")\n",
    "# plot the top three levels of the dendrogram\n",
    "plot_dendrogram(model, truncate_mode=\"level\", p=3)\n",
    "plt.xlabel(\"Number of points in node (or index of point if no parenthesis).\")\n",
    "plt.show()"
   ]
  },
  {
   "cell_type": "markdown",
   "metadata": {},
   "source": [
    "# References\n",
    "1. Introduction to Statistical Learning\n",
    "2. Machine Learning Course by Andrew Ng on Coursera\n",
    "3. Scikit-Learn Online Clustering documents"
   ]
  }
 ],
 "metadata": {
  "kernelspec": {
   "display_name": "Python 3.9.4 64-bit",
   "language": "python",
   "name": "python3"
  },
  "language_info": {
   "codemirror_mode": {
    "name": "ipython",
    "version": 3
   },
   "file_extension": ".py",
   "mimetype": "text/x-python",
   "name": "python",
   "nbconvert_exporter": "python",
   "pygments_lexer": "ipython3",
   "version": "3.9.4"
  },
  "orig_nbformat": 4,
  "vscode": {
   "interpreter": {
    "hash": "aee8b7b246df8f9039afb4144a1f6fd8d2ca17a180786b69acc140d282b71a49"
   }
  }
 },
 "nbformat": 4,
 "nbformat_minor": 2
}
