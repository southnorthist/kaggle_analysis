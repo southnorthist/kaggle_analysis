{
 "cells": [
  {
   "cell_type": "markdown",
   "id": "178df163-f164-4edc-b10e-1ced84aaa5d7",
   "metadata": {},
   "source": [
    "# Practical Modeling Process\n",
    "\n",
    "_First Version: 2023-08-27  \n",
    "Last Updates: 2023-08-27  \n",
    "Author: QH_"
   ]
  }
 ],
 "metadata": {
  "kernelspec": {
   "display_name": "Python 3 (ipykernel)",
   "language": "python",
   "name": "python3"
  },
  "language_info": {
   "codemirror_mode": {
    "name": "ipython",
    "version": 3
   },
   "file_extension": ".py",
   "mimetype": "text/x-python",
   "name": "python",
   "nbconvert_exporter": "python",
   "pygments_lexer": "ipython3",
   "version": "3.9.4"
  }
 },
 "nbformat": 4,
 "nbformat_minor": 5
}
