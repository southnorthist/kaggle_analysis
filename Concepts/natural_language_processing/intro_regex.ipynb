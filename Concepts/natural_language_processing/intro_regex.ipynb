{
 "cells": [
  {
   "cell_type": "markdown",
   "metadata": {},
   "source": [
    "# Introduction to Regular Expressions\n",
    "\n",
    "\n",
    "_Summarized by QH_  \n",
    "_First version: 2023-07-23_  \n",
    "_Last updated on : 2023-07-23_  "
   ]
  },
  {
   "cell_type": "markdown",
   "metadata": {},
   "source": [
    "## What is regular expression?\n",
    "Regular expression (short for _regex_) is a language for specifying text search strings. It is particularly useful for searching in texts when we have a _pattern_ to search for and a _corpus_ of texts to search through."
   ]
  },
  {
   "cell_type": "markdown",
   "metadata": {},
   "source": [
    "## Basic Regex Patterns\n",
    "Regular expressions are case sensitive.\n",
    "* `[]`: The string of characters inside the braces specifies a __disjunction__ of characters to match\n",
    "* `[]` + `-`: Specify any one character in a __range__\n",
    "* `[^]`: Negate the pattern \n",
    "* `?`: zero or one occurrence of the previous char or expression\n",
    "* `*`: _kleene *_, zero or more occurrences, greedy matching (always match the largest string they can)\n",
    "* `*?`: _kleene *_, zero or more occurences, non-greedy matching (match as little text as possible)\n",
    "* `+`: _kleene +_, one or more occurrences, greedy matching (always match the largest string they can)\n",
    "* `+?`: _kleene +_, one or more occurrences, non-greedy matching (match as little text as possible)\n",
    "* `.`: wildcard expression that matches any single character\n",
    "* `^`: start of line\n",
    "* `$`: end of line\n",
    "* `\\b`: word boundary\n",
    "* `\\B`: non-word boundary\n",
    "* `\\d`: `[0-9]`, any digit\n",
    "* `\\D`: `[^0-9]`, any non-digit\n",
    "* `\\w`: `[a-zA-Z0-9_]`, any alphanumeric/underscore\n",
    "* `\\W`: `[^\\w]`, a non-alphanumeric\n",
    "* `\\s`: `[ \\r\\t\\n\\f]`, whitespace(space, tab)\n",
    "* `\\S`: `[^\\s]`, Non-whitespace`\n",
    "* `{n}`: exactly n occurrences of the previous char or expression\n",
    "* `{n,m}`: from n to m occurrences of the previous char or expression\n",
    "* `{n,}`: at least n occurrences of the previous char or expression\n",
    "* `{,m}`: up to m occurrences of the previous char or expression\n",
    "* `\\*`: an asterisk “*”\n",
    "* `\\.`: a period “.”\n",
    "* `\\?`: a question mark\n",
    "* `\\n`: a new line\n",
    "* `\\t`: a tab\n",
    "\n",
    "\n",
    "\n",
    "|__Regex__|__Match__|__Example__|\n",
    "|:--|:--|:--|\n",
    "|`[hH]appy`| happy or Happy| \"<u>Happy</u> birthday!\"|\n",
    "|`[A-Z]`| an upper case letter| “we should call it ‘<u>D</u>renched Blossoms’ ”\n",
    "|`[a-z]`|a lower case letter|“<u>m</u>y beans were impatient to be hoed!”|\n",
    "|`[0-9]`|a single digit|“Chapter <u>1</u>: Down the Rabbit Hole”|\n",
    "|`[^A-Z]`|not an upper case letter|“O<u>y</u>fn pripetchik”|\n",
    "|`[^Ww]`|neither 'W' nor 'w'|\"<u>I</u> have no idea.\"|\n",
    "|`[e^]`|either 'e' or '^'|“look up <u>ˆ</u> now”|\n",
    "|`[a^b]`|the pattern 'a^b'|“look up <u>aˆb</u> now”|\n",
    "|`woodchucks?`|woodchuck or woodchucks|“<u>woodchuck</u>”|\n",
    "|`colour?r`|color or colour|“<u>color</u>”|\n",
    "|`beg.n`|any character between 'beg' and 'n' |<u>begin</u>, <u>beg’n</u>, <u>begun</u>|\n"
   ]
  }
 ],
 "metadata": {
  "language_info": {
   "name": "python"
  },
  "orig_nbformat": 4
 },
 "nbformat": 4,
 "nbformat_minor": 2
}
